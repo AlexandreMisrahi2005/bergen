{
 "cells": [
  {
   "cell_type": "code",
   "execution_count": 1,
   "metadata": {},
   "outputs": [],
   "source": [
    "import json\n",
    "import pandas as pd\n",
    "\n"
   ]
  },
  {
   "cell_type": "code",
   "execution_count": 2,
   "metadata": {},
   "outputs": [],
   "source": [
    "file_name1 = \"/beegfs/scratch/user/hdejean/calmar/expbergentopk/open_4321111/eval_dev_metrics_gpt-4o_out.json\"  #gpt4o\n",
    "#file_name2 = \"/beegfs/scratch/user/hdejean/calmar/expbergentopk/open_4321111/eval_dev_metrics_gpt-4_out.json\"  #gpt4\n",
    "file_name2 = \"/beegfs/scratch/user/hdejean/calmar/expbergentopk/bergen_4320699/eval_dev_metrics_gpt-4o_out.json\"  #solar\n",
    "#file_name2 = \"/beegfs/scratch/user/hdejean/calmar/expbergentopk/i256_4299344/eval_dev_metrics_gpt-4o_out.json\"  #solar short\n",
    "\n",
    "df1 = pd.read_json(file_name1,lines=True)\n",
    "df2 = pd.read_json(file_name2,lines=True)"
   ]
  },
  {
   "cell_type": "code",
   "execution_count": 31,
   "metadata": {},
   "outputs": [],
   "source": [
    "all=df1.merge(df2,on='question')\n"
   ]
  },
  {
   "cell_type": "code",
   "execution_count": 32,
   "metadata": {},
   "outputs": [],
   "source": [
    "#all = all.drop(['label_x','response_y'],axis=1)\n",
    "all = all.drop(['label_x'],axis=1)\n"
   ]
  },
  {
   "cell_type": "code",
   "execution_count": 33,
   "metadata": {},
   "outputs": [],
   "source": [
    "#pd.set_option('display.width', 1000)\n",
    "pd.set_option('max_colwidth', 800)\n"
   ]
  },
  {
   "cell_type": "code",
   "execution_count": 34,
   "metadata": {},
   "outputs": [
    {
     "data": {
      "text/html": [
       "<div>\n",
       "<style scoped>\n",
       "    .dataframe tbody tr th:only-of-type {\n",
       "        vertical-align: middle;\n",
       "    }\n",
       "\n",
       "    .dataframe tbody tr th {\n",
       "        vertical-align: top;\n",
       "    }\n",
       "\n",
       "    .dataframe thead th {\n",
       "        text-align: right;\n",
       "    }\n",
       "</style>\n",
       "<table border=\"1\" class=\"dataframe\">\n",
       "  <thead>\n",
       "    <tr style=\"text-align: right;\">\n",
       "      <th></th>\n",
       "      <th>question</th>\n",
       "      <th>response_x</th>\n",
       "      <th>score_x</th>\n",
       "      <th>response_y</th>\n",
       "      <th>label_y</th>\n",
       "      <th>score_y</th>\n",
       "    </tr>\n",
       "  </thead>\n",
       "  <tbody>\n",
       "    <tr>\n",
       "      <th>0</th>\n",
       "      <td>what do the 3 dots mean in math</td>\n",
       "      <td>The three dots in math typically refer to the \"therefore\" sign (∴), indicating a logical consequence or conclusion.</td>\n",
       "      <td>1</td>\n",
       "      <td>In the provided documents, the three dots have various meanings in mathematics. Some of these include:\\n\\n1. In mathematical proofs, the ellipsis (several dots in a horizontal or vertical line) is sometimes used to represent a series of omitted steps to keep the proof concise. However, the usage of ellipses in mathematical proofs is often discouraged due to the absence of systematic rules for symbolic calculation.\\n\\n2. In programming languages, a two- or three-dot ellipsis serves as an operator. In math-related contexts, it generally deals with</td>\n",
       "      <td>[the therefore sign, therefore sign, a logical consequence , such as the conclusion of a syllogism, the therefore sign ( ∴ ) is generally used before a logical consequence , such as the conclusion of a syllogism]</td>\n",
       "      <td>0</td>\n",
       "    </tr>\n",
       "    <tr>\n",
       "      <th>3</th>\n",
       "      <td>where was the world economic forum held this year</td>\n",
       "      <td>The provided documents do not specify where the World Economic Forum was held this year.</td>\n",
       "      <td>0</td>\n",
       "      <td>The information provided does not mention the specific details about the World Economic Forum's location for this year. However, traditionally, the flagship forum is held annually in Davos, Switzerland, at the end of January. To know the most recent location, you would need to consult updated and current sources.</td>\n",
       "      <td>[Davos, Davos , a mountain resort in Graubünden , in the eastern Alps region of Switzerland]</td>\n",
       "      <td>1</td>\n",
       "    </tr>\n",
       "    <tr>\n",
       "      <th>4</th>\n",
       "      <td>where are the giant redwoods located in california</td>\n",
       "      <td>The giant redwoods (coast redwoods, Sequoia sempervirens) in California are located in places such as the Redwood National and State Parks (Del Norte and Humboldt Counties), Humboldt Redwoods State Park (Humboldt County), Henry Cowell Redwoods State Park (Santa Cruz County), and Big Basin Redwoods State Park (Santa Cruz County). The southernmost groves are in the Los Padres National Forest's Silver Peak Wilderness (Monterey County). Additionally, Armstrong Redwoods State Natural Reserve is located in Sonoma County.</td>\n",
       "      <td>1</td>\n",
       "      <td>Giant redwoods, specifically the Coast Redwoods (\"Sequoia sempervirens\"), are found along the coast of northern California. Some of the major populations are in Redwood National and State Parks and Humboldt Redwoods State Park, both located in Del Norte and Humboldt Counties. The southern boundary of their range is in the Santa Lucia Mountains, within the Los Padres National Forest's Silver Peak Wilderness in the Big Sur area of Monterey County. Notable areas include the Redwood Grove of Henry Cowell Redwoods State Park in Santa</td>\n",
       "      <td>[Humboldt County, the coast of northern California, from the northern California coast north to the southern Oregon Coast, Del Norte County]</td>\n",
       "      <td>0</td>\n",
       "    </tr>\n",
       "    <tr>\n",
       "      <th>8</th>\n",
       "      <td>two main types of research methods used in psychology</td>\n",
       "      <td>Qualitative research and quantitative research.</td>\n",
       "      <td>1</td>\n",
       "      <td>The two main types of empirical research design in psychology are qualitative research and quantitative research. Qualitative methods focus on understanding experiences and behaviors through non-numerical data, while quantitative methods involve gathering numerical data using mathematical modeling and statistical techniques. The choice between these methods depends on the nature of the research topic being investigated and the specific research questions being addressed.</td>\n",
       "      <td>[Correlational research, Descriptive research, Experimental research, Qualitative psychological research, Quantitative psychological research, qualitative data, quantitative data, qualitative, quantitative]</td>\n",
       "      <td>0</td>\n",
       "    </tr>\n",
       "    <tr>\n",
       "      <th>9</th>\n",
       "      <td>who plays peter in what we do in the shadows</td>\n",
       "      <td>Ben Fransham plays Peter in \"What We Do in the Shadows\".</td>\n",
       "      <td>1</td>\n",
       "      <td>There is no character named Peter in the American television series \"What We Do in the Shadows\" (2019). However, I found \"Shadow of the Cloak,\" an unrelated 1951-1952 television series mentioned in one of the documents, where Helmut Dantine played secret agent Peter House.</td>\n",
       "      <td>[Ben Fransham]</td>\n",
       "      <td>0</td>\n",
       "    </tr>\n",
       "    <tr>\n",
       "      <th>13</th>\n",
       "      <td>a good that can be used in place of another good</td>\n",
       "      <td>Substitute good</td>\n",
       "      <td>1</td>\n",
       "      <td>A substitute good is a product that a consumer perceives as similar or comparable to another good, so when there's a change in one product's price, the demand for the substitute good goes up. For instance, different potato farms, petroleum and natural gas for heating or electricity, or car and bicycle can be substitutes. The relationship between the price of a substitute and the demand for the primary good is positive: a decrease in the substitute's price leads to a decrease in demand for the primary good. The degree of substitution depends on how specifically the good is defined. Substitute goods inter</td>\n",
       "      <td>[substitute good, A substitute good]</td>\n",
       "      <td>0</td>\n",
       "    </tr>\n",
       "    <tr>\n",
       "      <th>16</th>\n",
       "      <td>who plays unis in she's the man</td>\n",
       "      <td>Emily Perkins plays Eunice in \"She's the Man\".</td>\n",
       "      <td>1</td>\n",
       "      <td>In the 2006 romantic comedy film \"She's the Man,\" the character Viola Hasting's best friend, Paul Antonio, is played by Jonathan Sadowski.</td>\n",
       "      <td>[Emily Perkins]</td>\n",
       "      <td>0</td>\n",
       "    </tr>\n",
       "    <tr>\n",
       "      <th>28</th>\n",
       "      <td>what was the tower of london originally used for</td>\n",
       "      <td>The Tower of London was originally used as a grand palace and royal residence.</td>\n",
       "      <td>1</td>\n",
       "      <td>The Tower of London was originally used as a royal palace, a stronghold, and later also served as a prison, treasury, armory, record office, and home to the Royal Mint and the Crown Jewels. As a castle, it was used by the monarchs for imprisoning people for various reasons, although its primary purpose was not as a prison. The Tower of London evolved over time with several phases of expansion, playing a significant role in English history, and it was also used as a symbol of oppression by some rulers.</td>\n",
       "      <td>[a royal residence, as a royal residence]</td>\n",
       "      <td>0</td>\n",
       "    </tr>\n",
       "    <tr>\n",
       "      <th>29</th>\n",
       "      <td>what type of fuel goes in a zippo</td>\n",
       "      <td>Zippo lighters use naphtha or butane as fuel.</td>\n",
       "      <td>0</td>\n",
       "      <td>In early Zippo lighters, naphtha was used as a fuel source. In the 1950s, butane became the preferred fuel choice due to its controllable flame and less odor. Modern Zippo lighters usually use butane, which is absorbed by a saturated cloth wick, a rayon \"cotton\" or batting. The fuel is poured into the rayon balls or batting, which absorb it, and a felt piece covers the bottom of the wick to facilitate refueling.</td>\n",
       "      <td>[butane, lighter fluid]</td>\n",
       "      <td>1</td>\n",
       "    </tr>\n",
       "    <tr>\n",
       "      <th>35</th>\n",
       "      <td>who scored the most points in their nba career</td>\n",
       "      <td>Karl Malone with 36,374 points.</td>\n",
       "      <td>0</td>\n",
       "      <td>Kareem Abdul-Jabbar holds the record for the most points scored in an NBA career. Please note that this information is accurate as of my knowledge cutoff date in September 2021.</td>\n",
       "      <td>[Kareem Abdul - Jabbar]</td>\n",
       "      <td>1</td>\n",
       "    </tr>\n",
       "    <tr>\n",
       "      <th>38</th>\n",
       "      <td>when did the east india company take control of india</td>\n",
       "      <td>The East India Company effectively began its rule in India in 1757 and it lasted until 1858.</td>\n",
       "      <td>1</td>\n",
       "      <td>The East India Company began to gain significant influence in India during the 18th century. The Battle of Plassey in 1757 led to the conquest of Bengal. By the end of the century, through a series of treaties and wars with Indian kingdoms, the company controlled most of the Indian subcontinent. The East India Company's control became complete after the uprisings during the Indian Mutiny of 1857, following which it was dissolved in 1858. After this event, the British government directly assumed control of British India in the form of the</td>\n",
       "      <td>[in 1757, 1612, 1757, 1799]</td>\n",
       "      <td>0</td>\n",
       "    </tr>\n",
       "    <tr>\n",
       "      <th>39</th>\n",
       "      <td>where does the water come from to fill lake eyre</td>\n",
       "      <td>The water to fill Lake Eyre primarily comes from the river systems of semi-arid inland Queensland, notably the Channel Country and rivers like the Diamantina, Georgina, and Cooper Creek.</td>\n",
       "      <td>1</td>\n",
       "      <td>The water that fills Lake Eyre mainly comes from the west, the Channel Country of Queensland, through rivers such as the Georgina River, Finke River, Cooper Creek, and in some instances, the Macumba River if the Finke River flows to it directly. Such events are rare and have been recorded in the first decade of the 20th century, and in specific years like 1909, 1938, and 1945. The lake fills only after heavy rainfall in semi-arid inland Queensland, with an average of around 200</td>\n",
       "      <td>[Warburton River]</td>\n",
       "      <td>0</td>\n",
       "    </tr>\n",
       "    <tr>\n",
       "      <th>44</th>\n",
       "      <td>the basic steps of rational decision making include defining goals and</td>\n",
       "      <td>gathering information, generating alternatives, choosing the best solution, implementing the preferred alternative, and monitoring and evaluating outcomes.</td>\n",
       "      <td>0</td>\n",
       "      <td>initiating a problem verification, defining the problem, gathering information, generating all possible solutions, and selecting the best solution that aligns with the defined goals and criteria. The process concludes with implementation and monitoring of outcomes and results.</td>\n",
       "      <td>[Implementation of plans / policies, Evaluation of alternative plans / policies, Monitoring of effects of plans / policies, Identification of alternative plans / policies]</td>\n",
       "      <td>1</td>\n",
       "    </tr>\n",
       "    <tr>\n",
       "      <th>47</th>\n",
       "      <td>what part of brain is responsible for complex thinking</td>\n",
       "      <td>The cerebral cortex, particularly the neocortex, is responsible for complex thinking.</td>\n",
       "      <td>0</td>\n",
       "      <td>The cerebral cortex, particularly in the temporal, parietal, and frontal lobes, is largely responsible for complex thinking. The frontal lobe, or prefrontal association complex, is specifically involved in planning actions, movement, and abstract thought. These regions have expanded disproportionately in human evolution and are associated with high-level cognition, including perception, thought, language, attention, episodic memory, and voluntary movement.</td>\n",
       "      <td>[the frontal lobe]</td>\n",
       "      <td>1</td>\n",
       "    </tr>\n",
       "    <tr>\n",
       "      <th>49</th>\n",
       "      <td>where was the movie strangers prey at night filmed</td>\n",
       "      <td>Covington, Kentucky and lower Cincinnati.</td>\n",
       "      <td>0</td>\n",
       "      <td>The movie \"The Strangers: Prey at Night\" was filmed in Covington, Kentucky and lower Cincinnati, with filming concluding on July 10, 2017.</td>\n",
       "      <td>[Covington , Kentucky]</td>\n",
       "      <td>1</td>\n",
       "    </tr>\n",
       "    <tr>\n",
       "      <th>50</th>\n",
       "      <td>what order do the captain america movies go in</td>\n",
       "      <td>1. Captain America: The First Avenger (2011)\\n2. Captain America: The Winter Soldier (2014)\\n3. Captain America: Civil War (2016)</td>\n",
       "      <td>1</td>\n",
       "      <td>The Captain America movies in chronological order based on their storyline are: \"Captain America: The First Avenger\" (2011), \"Captain America: The Winter Soldier\" (2014), \"Captain America: Civil War\" (2016), and within the events of \"Avengers: Infinity War\" (2018) and \"Avengers: Endgame\" (2019), where he also appears. However, if you're arranging the movies by their release dates, it would be: \"Captain America: The First Avenger\"</td>\n",
       "      <td>[Captain America : Civil War, Captain America : The First Avenger, Captain America : The Winter Soldier]</td>\n",
       "      <td>0</td>\n",
       "    </tr>\n",
       "    <tr>\n",
       "      <th>56</th>\n",
       "      <td>what does the pearl symbolize in the bible</td>\n",
       "      <td>The pearl in the Bible symbolizes the great value of the Kingdom of Heaven (Matthew 13:45-46), holy things (Matthew 7:6), and can also represent Christ or the true self in Gnostic thought.</td>\n",
       "      <td>1</td>\n",
       "      <td>In the Bible, the pearl has multiple symbolic interpretations. In religious contexts, the pearl often represents things of great value. The phrase \"Pearl of Great Price\" has been interpreted in this sense across various religious traditions. In the New Testament, the parable of the Pearl (Matthew 13:45-46) compares the Kingdom of Heaven to a \"pearl of great price.\" Similarly, the pearls mentioned in Revelation 21:21 symbolize the ‘Pearly Gates’ of the New Jerusalem. Additionally, pearls are mentioned in</td>\n",
       "      <td>[the Kingdom of Heaven]</td>\n",
       "      <td>0</td>\n",
       "    </tr>\n",
       "    <tr>\n",
       "      <th>64</th>\n",
       "      <td>when did korea separate into north and south</td>\n",
       "      <td>1948</td>\n",
       "      <td>0</td>\n",
       "      <td>Korea started separating into two countries after the end of World War II in 1945. The Allies divided Korea into a northern area (under the Soviet Union's protection) and a southern area (under the United States' protection). The partition became permanent when the two countries, North Korea and South Korea, were established in 1948 following the failure of the occupying powers to agree on the formation of a single government. The Korean Peninsula was divided along the 38th parallel.</td>\n",
       "      <td>[1945, 17 August 1945]</td>\n",
       "      <td>1</td>\n",
       "    </tr>\n",
       "    <tr>\n",
       "      <th>65</th>\n",
       "      <td>who discovered the atom and in what year</td>\n",
       "      <td>The atom was not discovered by a single person in a specific year; the concept of the atom dates back to ancient times and has evolved over centuries. The term \"atom\" was coined by the Greek philosopher Democritus around 400 BCE. Modern atomic theory developed in the early 1800s through John Dalton's work.</td>\n",
       "      <td>1</td>\n",
       "      <td>The discovery of subatomic particles within the atom cannot be attributed to a single person as it was a gradual process over many years. However, J.J. Thomson is credited with discovering the electron in 1897 through his work on cathode rays. This finding laid the groundwork for further exploration and understanding of the structure of the atom.</td>\n",
       "      <td>[John Dalton, early 1800s]</td>\n",
       "      <td>0</td>\n",
       "    </tr>\n",
       "    <tr>\n",
       "      <th>67</th>\n",
       "      <td>who sings the song let me love you</td>\n",
       "      <td>Several artists have songs titled \"Let Me Love You\":\\n- Ariana Grande featuring Lil Wayne\\n- DJ Snake featuring Justin Bieber\\n- Mario\\n- Ne-Yo\\n- Junggigo and Chanyeol\\n- DJ Rebel and Mohombi featuring Shaggy\\n- Tamara Todevska, Vrčak and Adrijan Gaxha</td>\n",
       "      <td>1</td>\n",
       "      <td>There are multiple songs titled \"Let Me Love You\" mentioned in the provided documents. Some of the artists who sang different renditions of this song are Ariana Grande (from her third studio album \"Dangerous Woman\"), DJ Snake featuring Justin Bieber, Mario for his second studio album \"Turning Point\", Ne-Yo as a lead single from his fifth studio album \"R.E.D.\", Junggigo and Chanyeol (from K-pop group EXO), DJ Rebel featuring Mohombi and Shaggy, and Tamara Todevska, Vrčak, and</td>\n",
       "      <td>[Justin Bieber, DJ Snake featuring Justin Bieber, Singh H Spot]</td>\n",
       "      <td>0</td>\n",
       "    </tr>\n",
       "  </tbody>\n",
       "</table>\n",
       "</div>"
      ],
      "text/plain": [
       "                                                                  question                                                                                                                                                                                                                                                                                                                                                                                                                                                                                                                                response_x  score_x  \\\n",
       "0                                          what do the 3 dots mean in math                                                                                                                                                                                                                                                                                                                                                                                                                       The three dots in math typically refer to the \"therefore\" sign (∴), indicating a logical consequence or conclusion.        1   \n",
       "3                        where was the world economic forum held this year                                                                                                                                                                                                                                                                                                                                                                                                                                                  The provided documents do not specify where the World Economic Forum was held this year.        0   \n",
       "4                       where are the giant redwoods located in california  The giant redwoods (coast redwoods, Sequoia sempervirens) in California are located in places such as the Redwood National and State Parks (Del Norte and Humboldt Counties), Humboldt Redwoods State Park (Humboldt County), Henry Cowell Redwoods State Park (Santa Cruz County), and Big Basin Redwoods State Park (Santa Cruz County). The southernmost groves are in the Los Padres National Forest's Silver Peak Wilderness (Monterey County). Additionally, Armstrong Redwoods State Natural Reserve is located in Sonoma County.        1   \n",
       "8                    two main types of research methods used in psychology                                                                                                                                                                                                                                                                                                                                                                                                                                                                                           Qualitative research and quantitative research.        1   \n",
       "9                             who plays peter in what we do in the shadows                                                                                                                                                                                                                                                                                                                                                                                                                                                                                  Ben Fransham plays Peter in \"What We Do in the Shadows\".        1   \n",
       "13                        a good that can be used in place of another good                                                                                                                                                                                                                                                                                                                                                                                                                                                                                                                           Substitute good        1   \n",
       "16                                         who plays unis in she's the man                                                                                                                                                                                                                                                                                                                                                                                                                                                                                            Emily Perkins plays Eunice in \"She's the Man\".        1   \n",
       "28                        what was the tower of london originally used for                                                                                                                                                                                                                                                                                                                                                                                                                                                            The Tower of London was originally used as a grand palace and royal residence.        1   \n",
       "29                                       what type of fuel goes in a zippo                                                                                                                                                                                                                                                                                                                                                                                                                                                                                             Zippo lighters use naphtha or butane as fuel.        0   \n",
       "35                          who scored the most points in their nba career                                                                                                                                                                                                                                                                                                                                                                                                                                                                                                           Karl Malone with 36,374 points.        0   \n",
       "38                   when did the east india company take control of india                                                                                                                                                                                                                                                                                                                                                                                                                                              The East India Company effectively began its rule in India in 1757 and it lasted until 1858.        1   \n",
       "39                        where does the water come from to fill lake eyre                                                                                                                                                                                                                                                                                                                                                The water to fill Lake Eyre primarily comes from the river systems of semi-arid inland Queensland, notably the Channel Country and rivers like the Diamantina, Georgina, and Cooper Creek.        1   \n",
       "44  the basic steps of rational decision making include defining goals and                                                                                                                                                                                                                                                                                                                                                                               gathering information, generating alternatives, choosing the best solution, implementing the preferred alternative, and monitoring and evaluating outcomes.        0   \n",
       "47                  what part of brain is responsible for complex thinking                                                                                                                                                                                                                                                                                                                                                                                                                                                     The cerebral cortex, particularly the neocortex, is responsible for complex thinking.        0   \n",
       "49                      where was the movie strangers prey at night filmed                                                                                                                                                                                                                                                                                                                                                                                                                                                                                                 Covington, Kentucky and lower Cincinnati.        0   \n",
       "50                          what order do the captain america movies go in                                                                                                                                                                                                                                                                                                                                                                                                         1. Captain America: The First Avenger (2011)\\n2. Captain America: The Winter Soldier (2014)\\n3. Captain America: Civil War (2016)        1   \n",
       "56                              what does the pearl symbolize in the bible                                                                                                                                                                                                                                                                                                                                              The pearl in the Bible symbolizes the great value of the Kingdom of Heaven (Matthew 13:45-46), holy things (Matthew 7:6), and can also represent Christ or the true self in Gnostic thought.        1   \n",
       "64                            when did korea separate into north and south                                                                                                                                                                                                                                                                                                                                                                                                                                                                                                                                      1948        0   \n",
       "65                                who discovered the atom and in what year                                                                                                                                                                                                                       The atom was not discovered by a single person in a specific year; the concept of the atom dates back to ancient times and has evolved over centuries. The term \"atom\" was coined by the Greek philosopher Democritus around 400 BCE. Modern atomic theory developed in the early 1800s through John Dalton's work.        1   \n",
       "67                                      who sings the song let me love you                                                                                                                                                                                                                                                                             Several artists have songs titled \"Let Me Love You\":\\n- Ariana Grande featuring Lil Wayne\\n- DJ Snake featuring Justin Bieber\\n- Mario\\n- Ne-Yo\\n- Junggigo and Chanyeol\\n- DJ Rebel and Mohombi featuring Shaggy\\n- Tamara Todevska, Vrčak and Adrijan Gaxha        1   \n",
       "\n",
       "                                                                                                                                                                                                                                                                                                                                                                                                                                                                                                                                                                                                                            response_y                                                                                                                                                                                                               label_y  score_y  \n",
       "0                                                              In the provided documents, the three dots have various meanings in mathematics. Some of these include:\\n\\n1. In mathematical proofs, the ellipsis (several dots in a horizontal or vertical line) is sometimes used to represent a series of omitted steps to keep the proof concise. However, the usage of ellipses in mathematical proofs is often discouraged due to the absence of systematic rules for symbolic calculation.\\n\\n2. In programming languages, a two- or three-dot ellipsis serves as an operator. In math-related contexts, it generally deals with  [the therefore sign, therefore sign, a logical consequence , such as the conclusion of a syllogism, the therefore sign ( ∴ ) is generally used before a logical consequence , such as the conclusion of a syllogism]        0  \n",
       "3                                                                                                                                                                                                                                                                                                           The information provided does not mention the specific details about the World Economic Forum's location for this year. However, traditionally, the flagship forum is held annually in Davos, Switzerland, at the end of January. To know the most recent location, you would need to consult updated and current sources.                                                                                                                          [Davos, Davos , a mountain resort in Graubünden , in the eastern Alps region of Switzerland]        1  \n",
       "4                                                                               Giant redwoods, specifically the Coast Redwoods (\"Sequoia sempervirens\"), are found along the coast of northern California. Some of the major populations are in Redwood National and State Parks and Humboldt Redwoods State Park, both located in Del Norte and Humboldt Counties. The southern boundary of their range is in the Santa Lucia Mountains, within the Los Padres National Forest's Silver Peak Wilderness in the Big Sur area of Monterey County. Notable areas include the Redwood Grove of Henry Cowell Redwoods State Park in Santa                                                                          [Humboldt County, the coast of northern California, from the northern California coast north to the southern Oregon Coast, Del Norte County]        0  \n",
       "8                                                                                                                                          The two main types of empirical research design in psychology are qualitative research and quantitative research. Qualitative methods focus on understanding experiences and behaviors through non-numerical data, while quantitative methods involve gathering numerical data using mathematical modeling and statistical techniques. The choice between these methods depends on the nature of the research topic being investigated and the specific research questions being addressed.        [Correlational research, Descriptive research, Experimental research, Qualitative psychological research, Quantitative psychological research, qualitative data, quantitative data, qualitative, quantitative]        0  \n",
       "9                                                                                                                                                                                                                                                                                                                                                    There is no character named Peter in the American television series \"What We Do in the Shadows\" (2019). However, I found \"Shadow of the Cloak,\" an unrelated 1951-1952 television series mentioned in one of the documents, where Helmut Dantine played secret agent Peter House.                                                                                                                                                                                                        [Ben Fransham]        0  \n",
       "13  A substitute good is a product that a consumer perceives as similar or comparable to another good, so when there's a change in one product's price, the demand for the substitute good goes up. For instance, different potato farms, petroleum and natural gas for heating or electricity, or car and bicycle can be substitutes. The relationship between the price of a substitute and the demand for the primary good is positive: a decrease in the substitute's price leads to a decrease in demand for the primary good. The degree of substitution depends on how specifically the good is defined. Substitute goods inter                                                                                                                                                                                  [substitute good, A substitute good]        0  \n",
       "16                                                                                                                                                                                                                                                                                                                                                                                                                                                                                          In the 2006 romantic comedy film \"She's the Man,\" the character Viola Hasting's best friend, Paul Antonio, is played by Jonathan Sadowski.                                                                                                                                                                                                       [Emily Perkins]        0  \n",
       "28                                                                                                          The Tower of London was originally used as a royal palace, a stronghold, and later also served as a prison, treasury, armory, record office, and home to the Royal Mint and the Crown Jewels. As a castle, it was used by the monarchs for imprisoning people for various reasons, although its primary purpose was not as a prison. The Tower of London evolved over time with several phases of expansion, playing a significant role in English history, and it was also used as a symbol of oppression by some rulers.                                                                                                                                                                             [a royal residence, as a royal residence]        0  \n",
       "29                                                                                                                                                                                                     In early Zippo lighters, naphtha was used as a fuel source. In the 1950s, butane became the preferred fuel choice due to its controllable flame and less odor. Modern Zippo lighters usually use butane, which is absorbed by a saturated cloth wick, a rayon \"cotton\" or batting. The fuel is poured into the rayon balls or batting, which absorb it, and a felt piece covers the bottom of the wick to facilitate refueling.                                                                                                                                                                                               [butane, lighter fluid]        1  \n",
       "35                                                                                                                                                                                                                                                                                                                                                                                                                                                   Kareem Abdul-Jabbar holds the record for the most points scored in an NBA career. Please note that this information is accurate as of my knowledge cutoff date in September 2021.                                                                                                                                                                                               [Kareem Abdul - Jabbar]        1  \n",
       "38                                                                     The East India Company began to gain significant influence in India during the 18th century. The Battle of Plassey in 1757 led to the conquest of Bengal. By the end of the century, through a series of treaties and wars with Indian kingdoms, the company controlled most of the Indian subcontinent. The East India Company's control became complete after the uprisings during the Indian Mutiny of 1857, following which it was dissolved in 1858. After this event, the British government directly assumed control of British India in the form of the                                                                                                                                                                                           [in 1757, 1612, 1757, 1799]        0  \n",
       "39                                                                                                                                  The water that fills Lake Eyre mainly comes from the west, the Channel Country of Queensland, through rivers such as the Georgina River, Finke River, Cooper Creek, and in some instances, the Macumba River if the Finke River flows to it directly. Such events are rare and have been recorded in the first decade of the 20th century, and in specific years like 1909, 1938, and 1945. The lake fills only after heavy rainfall in semi-arid inland Queensland, with an average of around 200                                                                                                                                                                                                     [Warburton River]        0  \n",
       "44                                                                                                                                                                                                                                                                                                                                               initiating a problem verification, defining the problem, gathering information, generating all possible solutions, and selecting the best solution that aligns with the defined goals and criteria. The process concludes with implementation and monitoring of outcomes and results.                                           [Implementation of plans / policies, Evaluation of alternative plans / policies, Monitoring of effects of plans / policies, Identification of alternative plans / policies]        1  \n",
       "47                                                                                                                                                        The cerebral cortex, particularly in the temporal, parietal, and frontal lobes, is largely responsible for complex thinking. The frontal lobe, or prefrontal association complex, is specifically involved in planning actions, movement, and abstract thought. These regions have expanded disproportionately in human evolution and are associated with high-level cognition, including perception, thought, language, attention, episodic memory, and voluntary movement.                                                                                                                                                                                                    [the frontal lobe]        1  \n",
       "49                                                                                                                                                                                                                                                                                                                                                                                                                                                                                          The movie \"The Strangers: Prey at Night\" was filmed in Covington, Kentucky and lower Cincinnati, with filming concluding on July 10, 2017.                                                                                                                                                                                                [Covington , Kentucky]        1  \n",
       "50                                                                                                                                                                                   The Captain America movies in chronological order based on their storyline are: \"Captain America: The First Avenger\" (2011), \"Captain America: The Winter Soldier\" (2014), \"Captain America: Civil War\" (2016), and within the events of \"Avengers: Infinity War\" (2018) and \"Avengers: Endgame\" (2019), where he also appears. However, if you're arranging the movies by their release dates, it would be: \"Captain America: The First Avenger\"                                                                                                              [Captain America : Civil War, Captain America : The First Avenger, Captain America : The Winter Soldier]        0  \n",
       "56                                                                                                        In the Bible, the pearl has multiple symbolic interpretations. In religious contexts, the pearl often represents things of great value. The phrase \"Pearl of Great Price\" has been interpreted in this sense across various religious traditions. In the New Testament, the parable of the Pearl (Matthew 13:45-46) compares the Kingdom of Heaven to a \"pearl of great price.\" Similarly, the pearls mentioned in Revelation 21:21 symbolize the ‘Pearly Gates’ of the New Jerusalem. Additionally, pearls are mentioned in                                                                                                                                                                                               [the Kingdom of Heaven]        0  \n",
       "64                                                                                                                            Korea started separating into two countries after the end of World War II in 1945. The Allies divided Korea into a northern area (under the Soviet Union's protection) and a southern area (under the United States' protection). The partition became permanent when the two countries, North Korea and South Korea, were established in 1948 following the failure of the occupying powers to agree on the formation of a single government. The Korean Peninsula was divided along the 38th parallel.                                                                                                                                                                                                [1945, 17 August 1945]        1  \n",
       "65                                                                                                                                                                                                                                                                        The discovery of subatomic particles within the atom cannot be attributed to a single person as it was a gradual process over many years. However, J.J. Thomson is credited with discovering the electron in 1897 through his work on cathode rays. This finding laid the groundwork for further exploration and understanding of the structure of the atom.                                                                                                                                                                                            [John Dalton, early 1800s]        0  \n",
       "67                                                                                                                                     There are multiple songs titled \"Let Me Love You\" mentioned in the provided documents. Some of the artists who sang different renditions of this song are Ariana Grande (from her third studio album \"Dangerous Woman\"), DJ Snake featuring Justin Bieber, Mario for his second studio album \"Turning Point\", Ne-Yo as a lead single from his fifth studio album \"R.E.D.\", Junggigo and Chanyeol (from K-pop group EXO), DJ Rebel featuring Mohombi and Shaggy, and Tamara Todevska, Vrčak, and                                                                                                                                                       [Justin Bieber, DJ Snake featuring Justin Bieber, Singh H Spot]        0  "
      ]
     },
     "execution_count": 34,
     "metadata": {},
     "output_type": "execute_result"
    }
   ],
   "source": [
    "all[all.score_x != all.score_y].head(20)"
   ]
  },
  {
   "cell_type": "code",
   "execution_count": 3,
   "metadata": {},
   "outputs": [
    {
     "name": "stderr",
     "output_type": "stream",
     "text": [
      "/home/hdejean/miniconda3/envs/bergen12/lib/python3.10/site-packages/huggingface_hub/file_download.py:1132: FutureWarning: `resume_download` is deprecated and will be removed in version 1.0.0. Downloads always resume when possible. If you want to force a new download, use `force_download=True`.\n",
      "  warnings.warn(\n"
     ]
    }
   ],
   "source": [
    "from transformers import AutoTokenizer\n",
    "tok=AutoTokenizer.from_pretrained('Upstage/SOLAR-10.7B-Instruct-v1.0')"
   ]
  },
  {
   "cell_type": "code",
   "execution_count": 20,
   "metadata": {},
   "outputs": [
    {
     "data": {
      "text/plain": [
       "'Hello'"
      ]
     },
     "execution_count": 20,
     "metadata": {},
     "output_type": "execute_result"
    }
   ],
   "source": [
    "tok.decode(tok('Hello there!',add_special_tokens=False).input_ids[:1])"
   ]
  },
  {
   "cell_type": "code",
   "execution_count": 11,
   "metadata": {},
   "outputs": [],
   "source": [
    "df1['len']=df1.apply(lambda x: len(tok(x.question,add_special_tokens=True).input_ids),axis=1)"
   ]
  },
  {
   "cell_type": "code",
   "execution_count": 13,
   "metadata": {},
   "outputs": [
    {
     "data": {
      "text/plain": [
       "12.302432146633768"
      ]
     },
     "execution_count": 13,
     "metadata": {},
     "output_type": "execute_result"
    }
   ],
   "source": [
    "df1['len'].mean()"
   ]
  },
  {
   "cell_type": "code",
   "execution_count": 18,
   "metadata": {},
   "outputs": [
    {
     "data": {
      "text/plain": [
       "[4256,\n",
       " 28715,\n",
       " 28775,\n",
       " 28715,\n",
       " 4256,\n",
       " 5848,\n",
       " 28775,\n",
       " 28723,\n",
       " 268,\n",
       " 3673,\n",
       " 28715,\n",
       " 28725,\n",
       " 281]"
      ]
     },
     "execution_count": 18,
     "metadata": {},
     "output_type": "execute_result"
    }
   ],
   "source": [
    "tok('qdqd qsdq. sdsd, d',add_special_tokens=False).input_ids"
   ]
  },
  {
   "cell_type": "code",
   "execution_count": null,
   "metadata": {},
   "outputs": [],
   "source": []
  }
 ],
 "metadata": {
  "kernelspec": {
   "display_name": "bergen12",
   "language": "python",
   "name": "python3"
  },
  "language_info": {
   "codemirror_mode": {
    "name": "ipython",
    "version": 3
   },
   "file_extension": ".py",
   "mimetype": "text/x-python",
   "name": "python",
   "nbconvert_exporter": "python",
   "pygments_lexer": "ipython3",
   "version": "3.10.14"
  }
 },
 "nbformat": 4,
 "nbformat_minor": 2
}
