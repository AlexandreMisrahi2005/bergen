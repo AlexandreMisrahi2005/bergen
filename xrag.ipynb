{
 "cells": [
  {
   "cell_type": "code",
   "execution_count": 1,
   "metadata": {},
   "outputs": [
    {
     "name": "stderr",
     "output_type": "stream",
     "text": [
      "/home/hdejean/miniconda3/envs/bergen12/lib/python3.10/site-packages/tqdm/auto.py:21: TqdmWarning: IProgress not found. Please update jupyter and ipywidgets. See https://ipywidgets.readthedocs.io/en/stable/user_install.html\n",
      "  from .autonotebook import tqdm as notebook_tqdm\n"
     ]
    }
   ],
   "source": [
    "## third-party\n",
    "from transformers import AutoTokenizer\n",
    "import torch\n",
    "import sys\n",
    "sys.path.append('./')\n",
    "## own\n",
    "from xRAG.src.model import SFR,XMistralForCausalLM\n",
    "from xRAG.src.language_modeling.utils import get_retrieval_embeds,XRAG_TOKEN"
   ]
  },
  {
   "cell_type": "code",
   "execution_count": 2,
   "metadata": {},
   "outputs": [
    {
     "name": "stderr",
     "output_type": "stream",
     "text": [
      "/home/hdejean/miniconda3/envs/bergen12/lib/python3.10/site-packages/huggingface_hub/file_download.py:1132: FutureWarning: `resume_download` is deprecated and will be removed in version 1.0.0. Downloads always resume when possible. If you want to force a new download, use `force_download=True`.\n",
      "  warnings.warn(\n",
      "Loading checkpoint shards: 100%|██████████| 3/3 [00:00<00:00,  4.36it/s]\n",
      "Special tokens have been added in the vocabulary, make sure the associated word embeddings are fine-tuned or trained.\n"
     ]
    },
    {
     "name": "stdout",
     "output_type": "stream",
     "text": [
      "<xRAG>\n"
     ]
    }
   ],
   "source": [
    "device = torch.device(\"cuda:0\")\n",
    "llm_name_or_path = \"Hannibal046/xrag-7b\"\n",
    "llm = XMistralForCausalLM.from_pretrained(llm_name_or_path,torch_dtype = torch.bfloat16,low_cpu_mem_usage = True,).eval()\n",
    "llm_tokenizer = AutoTokenizer.from_pretrained(llm_name_or_path,add_eos_token=False,use_fast=False,padding_side='left')\n",
    "\n",
    "## here, XRAG_TOKEN is just a place holder\n",
    "llm.set_xrag_token_id(llm_tokenizer.convert_tokens_to_ids(XRAG_TOKEN))\n",
    "print(XRAG_TOKEN)"
   ]
  },
  {
   "cell_type": "code",
   "execution_count": 5,
   "metadata": {},
   "outputs": [
    {
     "name": "stderr",
     "output_type": "stream",
     "text": [
      "Loading checkpoint shards: 100%|██████████| 3/3 [00:05<00:00,  1.97s/it]\n"
     ]
    }
   ],
   "source": [
    "retriever_name_or_path = \"Salesforce/SFR-Embedding-Mistral\"\n",
    "retriever = SFR.from_pretrained(retriever_name_or_path,torch_dtype = torch.bfloat16).eval()\n",
    "retriever_tokenizer = AutoTokenizer.from_pretrained(retriever_name_or_path)"
   ]
  },
  {
   "cell_type": "code",
   "execution_count": 3,
   "metadata": {},
   "outputs": [],
   "source": [
    "question = \"\"\"What company advertised itself with the slogan \"We'll leave a light on for you\"?\"\"\"\n",
    "documents = [\n",
    "    'Document 1: Alvin and the Chipmunks | \" Alvin and the Chipmunks, originally David Seville and the Chipmunks or simply The Chipmunks, are an American animated virtual band created by Ross Bagdasarian for a novelty record in 1958. The group consists of three singing animated anthropomorphic chipmunks named Alvin, Simon, and Theodore. They are managed by their human adoptive father, David \"\"Dave\"\" Seville. Bagdasarian provided the group\\'s voices sped up to create high-pitched squeaky voices (which wasn\\'t entirely new to him, having worked on \"\"Witch Doctor\"\" earned the record two Grammy Awards for engineering). \"\"The Chipmunk Song\"\" became a number-one single in the United States. After Bagdasarian died in 1972, the characters’ voices were provided by his son Ross Bagdasarian Jr. and the latter\\'s wife Janice Karman in the subsequent incarnations of \"',\n",
    "    \"Document 2: Jamie Lee Curtis |  Jamie Lee Curtis (born November 22, 1958) is an American actress and writer. She is the recipient of several accolades, including a British Academy Film Award, two Golden Globe Awards and a star on the Hollywood Walk of Fame in 1998. Curtis made her film acting debut as Laurie Strode in John Carpenter's horror film Halloween (1978), which established her as a scream queen, and she thereafter appeared in a string of horror films, including The Fog, Prom Night, Terror Train (all 1980) and Roadgames (1981). She reprised the role of Laurie in the sequels Halloween II (1981), Halloween H20: 20 Years Later (1998), Halloween: Resurrection (2002), Halloween (2018), and Halloween Kills (2021). Her filmography is largely characterized by independent film that have been box-office successes, with 8 of her lead-actress credits \",\n",
    "    'Document 3: Sunset Boulevard (musical) | \" The American premiere was at the Shubert Theatre in Century City, Los Angeles, California, on 9 December 1993, with Close as Norma and Alan Campbell as Joe. Featured were George Hearn as Max and Judy Kuhn as Betty. Lloyd Webber had reworked both the book and score, tightening the production, better organising the orchestrations, and adding the song \"\"Every Movie\\'s a Circus\"\". This new production was better received by the critics and was an instant success, running for 369 performances. The Los Angeles production also recorded a new cast album that is well regarded. It is also the only unabridged cast recording of the show, since the original London recording was trimmed by over thirty minutes. A controversy arose with this production after Faye Dunaway was hired to replace Glenn Close. Dunaway went into rehearsals with Rex Smith as Joe and Jon Cypher as Max. Tickets \"',\n",
    "    'Document 4: Arthur Balfour |  Balfour was appointed prime minister on 12 July 1902 while the King was recovering from his recent appendicitis operation. Changes to the Cabinet were thus not announced until 9 August, when the King was back in London. The new ministers were received in audience and took their oaths on 11 August.',\n",
    "    'Document 5: Motel 6 | \" Beginning in 1986, Motel 6 has advertised through radio commercials featuring the voice of writer and National Public Radio commentator Tom Bodett, with the tagline \"We\\'ll leave the light on for you.\" The ads were created by Dallas advertising agency The Richards Group. They feature a tune composed by Tom Faulkner, performed by him on guitar and Milo Deering on fiddle. The first spots were conceived and written by David Fowler. In 1996, the ads won a Clio Award. The campaign itself has won numerous national and international awards and was selected by Advertising Age magazine as one of the Top 100 Advertising Campaigns of the Twentieth Century.\"',\n",
    "]"
   ]
  },
  {
   "cell_type": "code",
   "execution_count": 32,
   "metadata": {},
   "outputs": [
    {
     "name": "stdout",
     "output_type": "stream",
     "text": [
      "torch.Size([5, 4096])\n"
     ]
    }
   ],
   "source": [
    "retriever_input = retriever_tokenizer(documents,max_length=180,padding=True,truncation=True,return_tensors='pt')\n",
    "with torch.no_grad():\n",
    "    doc_embeds = retriever.get_doc_embedding(input_ids=retriever_input.input_ids,attention_mask=retriever_input.attention_mask)\n",
    "print(doc_embeds.shape)"
   ]
  },
  {
   "cell_type": "code",
   "execution_count": 33,
   "metadata": {},
   "outputs": [
    {
     "data": {
      "text/plain": [
       "torch.Size([4096])"
      ]
     },
     "execution_count": 33,
     "metadata": {},
     "output_type": "execute_result"
    }
   ],
   "source": [
    "relevant_embedding = doc_embeds[-1]\n",
    "relevant_embedding.unsqueeze(0)\n",
    "relevant_embedding.shape\n"
   ]
  },
  {
   "cell_type": "code",
   "execution_count": 6,
   "metadata": {},
   "outputs": [
    {
     "data": {
      "text/plain": [
       "'[INST] Answer the questions:\\n\\nQuestion: What company advertised itself with the slogan \"We\\'ll leave a light on for you\"? [/INST] The answer is'"
      ]
     },
     "execution_count": 6,
     "metadata": {},
     "output_type": "execute_result"
    }
   ],
   "source": [
    "## 4. concate the doc and query in a template\n",
    "rag_template = \"\"\"[INST] \n",
    "\n",
    "Background: {document}\n",
    "\n",
    "Question: {question} [/INST] the answer is \"\"\"\n",
    "prompt = rag_template.format_map(dict(question=question,document=XRAG_TOKEN))\n",
    "\n",
    "template = \"[INST] Answer the questions:\\n\\nQuestion: {question} [/INST] The answer is\"\n",
    "prompt = template.format_map(dict(question=question,document=XRAG_TOKEN))\n",
    "\n",
    "prompt"
   ]
  },
  {
   "cell_type": "code",
   "execution_count": 7,
   "metadata": {},
   "outputs": [
    {
     "name": "stdout",
     "output_type": "stream",
     "text": [
      "['[INST] Answer the questions:\\n\\nQuestion: What company advertised itself with the slogan \"We\\'ll leave a light on for you\"? [/INST] The answer is Motel 6. Motel 6 is a budget motel chain in the United States and Canada. The company is known for its slogan \"We\\'ll leave a light on for you,\" which signifies a welcoming and friendly atmosphere for weary travelers.']\n"
     ]
    }
   ],
   "source": [
    "input_ids = llm_tokenizer(prompt,return_tensors='pt').input_ids\n",
    "generated_output = llm.generate(\n",
    "        input_ids = input_ids,\n",
    "        do_sample=False,\n",
    "        max_new_tokens=128,\n",
    "        pad_token_id=llm_tokenizer.pad_token_id,\n",
    "        #retrieval_embeds = relevant_embedding.unsqueeze(0),\n",
    "    )\n",
    "result = llm_tokenizer.batch_decode(generated_output,skip_special_tokens=True)\n",
    "print(result)"
   ]
  },
  {
   "cell_type": "code",
   "execution_count": 11,
   "metadata": {},
   "outputs": [
    {
     "data": {
      "text/plain": [
       "{'input_ids': [28705, 28740, 28723, 13, 28750], 'attention_mask': [1, 1, 1, 1, 1]}"
      ]
     },
     "execution_count": 11,
     "metadata": {},
     "output_type": "execute_result"
    }
   ],
   "source": [
    "q=\"1.\\n2\"\n",
    "llm_tokenizer(q,add_special_tokens=False)"
   ]
  },
  {
   "cell_type": "code",
   "execution_count": 13,
   "metadata": {},
   "outputs": [
    {
     "data": {
      "text/plain": [
       "'2'"
      ]
     },
     "execution_count": 13,
     "metadata": {},
     "output_type": "execute_result"
    }
   ],
   "source": [
    "llm_tokenizer.decode([28750])"
   ]
  },
  {
   "cell_type": "code",
   "execution_count": null,
   "metadata": {},
   "outputs": [],
   "source": []
  }
 ],
 "metadata": {
  "kernelspec": {
   "display_name": "bergen12",
   "language": "python",
   "name": "python3"
  },
  "language_info": {
   "codemirror_mode": {
    "name": "ipython",
    "version": 3
   },
   "file_extension": ".py",
   "mimetype": "text/x-python",
   "name": "python",
   "nbconvert_exporter": "python",
   "pygments_lexer": "ipython3",
   "version": "3.10.14"
  }
 },
 "nbformat": 4,
 "nbformat_minor": 2
}
